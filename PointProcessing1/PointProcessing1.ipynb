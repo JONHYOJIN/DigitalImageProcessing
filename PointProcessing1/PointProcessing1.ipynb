{
  "nbformat": 4,
  "nbformat_minor": 0,
  "metadata": {
    "colab": {
      "name": "OpenCV",
      "provenance": [],
      "collapsed_sections": []
    },
    "kernelspec": {
      "name": "python3",
      "display_name": "Python 3"
    },
    "language_info": {
      "name": "python"
    },
    "accelerator": "GPU"
  },
  "cells": [
    {
      "cell_type": "code",
      "execution_count": null,
      "metadata": {
        "id": "nE_h9-ZncYEl"
      },
      "outputs": [],
      "source": [
        "import cv2\n",
        "import numpy as np\n",
        "from math import acos, pi, sqrt"
      ]
    },
    {
      "cell_type": "code",
      "source": [
        "pwd"
      ],
      "metadata": {
        "colab": {
          "base_uri": "https://localhost:8080/"
        },
        "id": "O7Nxz4e7gOlg",
        "outputId": "5cf76177-6adb-4124-9a37-973bff4ce146"
      },
      "execution_count": null,
      "outputs": [
        {
          "output_type": "execute_result",
          "data": {
            "text/plain": [
              "'/Users/hyojin'"
            ]
          },
          "metadata": {},
          "execution_count": 3
        }
      ]
    },
    {
      "cell_type": "code",
      "source": [
        "# 이미지 파일 로드\n",
        "src = cv2.imread(\"./DigitalImageProcessing/sample.jpg\", cv2.IMREAD_COLOR)\n",
        "# HSV 컬로 변환\n",
        "hsv = cv2.cvtColor(src, cv2.COLOR_BGR2HSV)\n",
        "# h(색상), s(채도), v(명도) 값 분리\n",
        "h,s,v = cv2.split(hsv)\n",
        "\n",
        "# 피부색만 추출할 이미지의 리스트 생성\n",
        "width, height, channel = src.shape[0], src.shape[1], src.shape[2]\n",
        "dst = np.zeros((width, height, channel))\n",
        "\n",
        "# 조건에 해당하는 이미지만 추출\n",
        "for i in range(width):\n",
        "  for j in range(height):\n",
        "    if s[i][j] > 55 and s[i][j] < 120 and h[i][j] < 15 and v[i][j] > 50 and v[i][j] < 200:\n",
        "      dst[i][j] = src[i][j] / 256\n",
        "\n",
        "cv2.imshow(\"source\", src)\n",
        "cv2.imshow(\"h\", h)\n",
        "cv2.imshow(\"s\", s)\n",
        "cv2.imshow(\"v\", v)\n",
        "cv2.imshow(\"dst\",dst)\n",
        "cv2.waitKey(0)\n",
        "cv2.destroyAllWindows()\n",
        "cv2.waitKey(1)"
      ],
      "metadata": {
        "colab": {
          "base_uri": "https://localhost:8080/"
        },
        "id": "aPi7E-vTdAEF",
        "outputId": "003e4e3f-a4ab-41c1-e102-92944339b960"
      },
      "execution_count": null,
      "outputs": [
        {
          "output_type": "execute_result",
          "data": {
            "text/plain": [
              "-1"
            ]
          },
          "metadata": {},
          "execution_count": 14
        }
      ]
    },
    {
      "cell_type": "markdown",
      "source": [
        "## WITHOUT LIB"
      ],
      "metadata": {
        "id": "HZuwqbs_hpkX"
      }
    },
    {
      "cell_type": "code",
      "source": [
        "# h(색상) 계산 함수\n",
        "def compute_Hue(B, G, R):\n",
        "  angle = 0\n",
        "  if B!=G!=R:\n",
        "    angle = 0.5*((R-G)+(R-B)) / sqrt((R-G)*(R-G) + (R-B)*(G-B))\n",
        "  return acos(angle) if B<=G else (2*pi - acos(angle))"
      ],
      "metadata": {
        "id": "yMBZrKrqha_z"
      },
      "execution_count": null,
      "outputs": []
    },
    {
      "cell_type": "code",
      "source": [
        "src = cv2.imread(\"./DigitalImageProcessing/sample.jpg\", cv2.IMREAD_COLOR)\n",
        "height, width = src.shape[0], src.shape[1]\n",
        "\n",
        "I = np.zeros((height, width))\n",
        "S = np.zeros((height, width))\n",
        "H = np.zeros((height, width))\n",
        "\n",
        "for i in range(height):\n",
        "  for j in range(width):\n",
        "    # 0과 1사이 값으로 변경\n",
        "    B, G, R = src[i][j][0]/255, src[i][j][1]/255, src[i][j][2]/255\n",
        "\n",
        "    # 명도\n",
        "    I[i][j] = (B+G+R)/3\n",
        "\n",
        "    # 채도\n",
        "    if B+G+R!=0:\n",
        "      S[i][j] = 1-3*np.min([B, G, R])/(B+G+R)\n",
        "\n",
        "    # 색상\n",
        "    H[i][j] = compute_Hue(B, G, R)\n",
        "\n",
        "# 피부색만 추출할 이미지의 리스트 생성\n",
        "dst = np.zeros((height, width, 3), dtype=np.uint8)\n",
        "\n",
        "for i in range(height):\n",
        "  for j in range(width):\n",
        "    if H[i][j] >= 0.3 and H[i][j] <= 0.5:\n",
        "      dst[i][j] = src[i][j]\n",
        "\n",
        "cv2.imshow(\"dst\", dst)\n",
        "cv2.imshow(\"src\", src)\n",
        "cv2.waitKey(0)\n",
        "cv2.destroyAllWindows()\n",
        "cv2.waitKey(1)"
      ],
      "metadata": {
        "id": "rJPxMq9biYqN",
        "colab": {
          "base_uri": "https://localhost:8080/"
        },
        "outputId": "3167f3f1-837b-4bcb-9c3b-0535a0299980"
      },
      "execution_count": null,
      "outputs": [
        {
          "output_type": "execute_result",
          "data": {
            "text/plain": [
              "-1"
            ]
          },
          "metadata": {},
          "execution_count": 33
        }
      ]
    },
    {
      "cell_type": "code",
      "source": [
        "I = I*255\n",
        "S = S*255\n",
        "H = H*255\n",
        "I = np.asarray(I, dtype=np.uint8)\n",
        "S = np.asarray(S, dtype=np.uint8)\n",
        "H = np.asarray(H, dtype=np.uint8)\n",
        "\n",
        "cv2.imshow(\"src\", src)\n",
        "cv2.imshow(\"H\", H)\n",
        "cv2.imshow(\"S\", S)\n",
        "cv2.imshow(\"I\", I)\n",
        "cv2.waitKey(0)\n",
        "cv2.destroyAllWindows()\n",
        "cv2.waitKey(1)"
      ],
      "metadata": {
        "id": "l3uL-d_ljypk"
      },
      "execution_count": null,
      "outputs": []
    },
    {
      "cell_type": "code",
      "source": [
        ""
      ],
      "metadata": {
        "id": "YsEVLJg8k2CV"
      },
      "execution_count": null,
      "outputs": []
    }
  ]
}