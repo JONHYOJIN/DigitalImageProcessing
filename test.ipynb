{
 "cells": [
  {
   "cell_type": "code",
   "execution_count": 1,
   "metadata": {},
   "outputs": [],
   "source": [
    "import pandas as pd\n",
    "import numpy as np"
   ]
  },
  {
   "cell_type": "code",
   "execution_count": 2,
   "metadata": {},
   "outputs": [
    {
     "data": {
      "text/plain": [
       "(500, 500)"
      ]
     },
     "execution_count": 2,
     "metadata": {},
     "output_type": "execute_result"
    }
   ],
   "source": [
    "import cv2\n",
    "image = cv2.imread(\"/Users/hyojin/DigitalImageProcessing/HE test/Fig0316(1)(top_left).jpg\", cv2.IMREAD_COLOR)\n",
    "image2 = cv2.imread(\"/Users/hyojin/DigitalImageProcessing/HE test/Fig0316(1)(top_left).jpg\", cv2.IMREAD_GRAYSCALE)\n",
    "image2.shape"
   ]
  },
  {
   "cell_type": "code",
   "execution_count": 3,
   "metadata": {},
   "outputs": [
    {
     "data": {
      "text/plain": [
       "(500, 500, 3)"
      ]
     },
     "execution_count": 3,
     "metadata": {},
     "output_type": "execute_result"
    }
   ],
   "source": [
    "image.shape"
   ]
  },
  {
   "cell_type": "code",
   "execution_count": 4,
   "metadata": {},
   "outputs": [],
   "source": [
    "image = cv2.cvtColor(image, cv2.COLOR_BGR2HSV)"
   ]
  },
  {
   "cell_type": "code",
   "execution_count": 5,
   "metadata": {},
   "outputs": [
    {
     "data": {
      "text/plain": [
       "(500, 500, 3)"
      ]
     },
     "execution_count": 5,
     "metadata": {},
     "output_type": "execute_result"
    }
   ],
   "source": [
    "image.shape"
   ]
  },
  {
   "cell_type": "code",
   "execution_count": 6,
   "metadata": {},
   "outputs": [
    {
     "data": {
      "text/plain": [
       "array([[[  0,   0, 132],\n",
       "        [  0,   0, 132],\n",
       "        [  0,   0, 132],\n",
       "        ...,\n",
       "        [  0,   0, 191],\n",
       "        [  0,   0, 191],\n",
       "        [  0,   0, 184]],\n",
       "\n",
       "       [[  0,   0, 132],\n",
       "        [  0,   0, 132],\n",
       "        [  0,   0, 132],\n",
       "        ...,\n",
       "        [  0,   0, 190],\n",
       "        [  0,   0, 190],\n",
       "        [  0,   0, 179]],\n",
       "\n",
       "       [[  0,   0, 132],\n",
       "        [  0,   0, 132],\n",
       "        [  0,   0, 132],\n",
       "        ...,\n",
       "        [  0,   0, 175],\n",
       "        [  0,   0, 175],\n",
       "        [  0,   0, 166]],\n",
       "\n",
       "       ...,\n",
       "\n",
       "       [[  0,   0, 149],\n",
       "        [  0,   0, 132],\n",
       "        [  0,   0, 132],\n",
       "        ...,\n",
       "        [  0,   0, 248],\n",
       "        [  0,   0, 242],\n",
       "        [  0,   0, 242]],\n",
       "\n",
       "       [[  0,   0, 151],\n",
       "        [  0,   0, 138],\n",
       "        [  0,   0, 132],\n",
       "        ...,\n",
       "        [  0,   0, 242],\n",
       "        [  0,   0, 242],\n",
       "        [  0,   0, 235]],\n",
       "\n",
       "       [[  0,   0, 156],\n",
       "        [  0,   0, 145],\n",
       "        [  0,   0, 132],\n",
       "        ...,\n",
       "        [  0,   0, 240],\n",
       "        [  0,   0, 240],\n",
       "        [  0,   0, 224]]], dtype=uint8)"
      ]
     },
     "execution_count": 6,
     "metadata": {},
     "output_type": "execute_result"
    }
   ],
   "source": [
    "image"
   ]
  },
  {
   "cell_type": "code",
   "execution_count": 8,
   "metadata": {},
   "outputs": [],
   "source": [
    "image[:,:,2] = np.zeros((500,500))"
   ]
  },
  {
   "cell_type": "code",
   "execution_count": 9,
   "metadata": {},
   "outputs": [
    {
     "data": {
      "text/plain": [
       "array([[[0, 0, 0],\n",
       "        [0, 0, 0],\n",
       "        [0, 0, 0],\n",
       "        ...,\n",
       "        [0, 0, 0],\n",
       "        [0, 0, 0],\n",
       "        [0, 0, 0]],\n",
       "\n",
       "       [[0, 0, 0],\n",
       "        [0, 0, 0],\n",
       "        [0, 0, 0],\n",
       "        ...,\n",
       "        [0, 0, 0],\n",
       "        [0, 0, 0],\n",
       "        [0, 0, 0]],\n",
       "\n",
       "       [[0, 0, 0],\n",
       "        [0, 0, 0],\n",
       "        [0, 0, 0],\n",
       "        ...,\n",
       "        [0, 0, 0],\n",
       "        [0, 0, 0],\n",
       "        [0, 0, 0]],\n",
       "\n",
       "       ...,\n",
       "\n",
       "       [[0, 0, 0],\n",
       "        [0, 0, 0],\n",
       "        [0, 0, 0],\n",
       "        ...,\n",
       "        [0, 0, 0],\n",
       "        [0, 0, 0],\n",
       "        [0, 0, 0]],\n",
       "\n",
       "       [[0, 0, 0],\n",
       "        [0, 0, 0],\n",
       "        [0, 0, 0],\n",
       "        ...,\n",
       "        [0, 0, 0],\n",
       "        [0, 0, 0],\n",
       "        [0, 0, 0]],\n",
       "\n",
       "       [[0, 0, 0],\n",
       "        [0, 0, 0],\n",
       "        [0, 0, 0],\n",
       "        ...,\n",
       "        [0, 0, 0],\n",
       "        [0, 0, 0],\n",
       "        [0, 0, 0]]], dtype=uint8)"
      ]
     },
     "execution_count": 9,
     "metadata": {},
     "output_type": "execute_result"
    }
   ],
   "source": [
    "image"
   ]
  },
  {
   "cell_type": "code",
   "execution_count": 29,
   "metadata": {},
   "outputs": [],
   "source": [
    "img = image[:,:,2]"
   ]
  },
  {
   "cell_type": "code",
   "execution_count": 32,
   "metadata": {},
   "outputs": [],
   "source": [
    "width, height = img.shape[0], img.shape[1]\n",
    "max = np.max(img) + 1\n",
    "min = np.min(img)\n",
    "num_pixel = width*height\n",
    "\n",
    "#scale histogram\n",
    "hist = np.zeros(max)\n",
    "#cdf of scale histogram\n",
    "sum_hist = np.zeros(max)\n",
    "#normalized sum\n",
    "norm_hist = np.zeros(max)\n",
    "\n",
    "result = np.zeros((width, height))\n",
    "sum = 0\n",
    "for i in range(width):\n",
    "    for j in range(height):\n",
    "        hist[img[i][j]] += 1\n",
    "min = sum_hist[min]\n",
    "for i in range(max):\n",
    "    sum+=hist[i]\n",
    "    sum_hist[i] = sum\n",
    "    norm_hist[i] = np.around((max-1)*(sum_hist[i]-min)/(num_pixel-min))\n",
    "for i in range(width):\n",
    "    for j in range(height):\n",
    "        result[i][j] = norm_hist[img[i][j]]"
   ]
  },
  {
   "cell_type": "code",
   "execution_count": 33,
   "metadata": {},
   "outputs": [
    {
     "data": {
      "text/plain": [
       "(500, 500)"
      ]
     },
     "execution_count": 33,
     "metadata": {},
     "output_type": "execute_result"
    }
   ],
   "source": [
    "result.shape"
   ]
  },
  {
   "cell_type": "code",
   "execution_count": 34,
   "metadata": {},
   "outputs": [
    {
     "data": {
      "text/plain": [
       "(500, 500, 3)"
      ]
     },
     "execution_count": 34,
     "metadata": {},
     "output_type": "execute_result"
    }
   ],
   "source": [
    "rs = image\n",
    "rs.shape"
   ]
  },
  {
   "cell_type": "code",
   "execution_count": 36,
   "metadata": {},
   "outputs": [],
   "source": [
    "rs[:,:,2] = result"
   ]
  },
  {
   "cell_type": "code",
   "execution_count": 39,
   "metadata": {},
   "outputs": [
    {
     "data": {
      "text/plain": [
       "array([[ 18.,  18.,  18., ..., 115., 115., 103.],\n",
       "       [ 18.,  18.,  18., ..., 112., 112.,  97.],\n",
       "       [ 18.,  18.,  18., ...,  91.,  91.,  80.],\n",
       "       ...,\n",
       "       [ 49.,  18.,  18., ..., 219., 213., 213.],\n",
       "       [ 59.,  19.,  18., ..., 213., 213., 198.],\n",
       "       [ 68.,  32.,  18., ..., 207., 207., 182.]])"
      ]
     },
     "execution_count": 39,
     "metadata": {},
     "output_type": "execute_result"
    }
   ],
   "source": [
    "result"
   ]
  },
  {
   "cell_type": "code",
   "execution_count": 38,
   "metadata": {},
   "outputs": [
    {
     "data": {
      "text/plain": [
       "array([[ 18,  18,  18, ..., 115, 115, 103],\n",
       "       [ 18,  18,  18, ..., 112, 112,  97],\n",
       "       [ 18,  18,  18, ...,  91,  91,  80],\n",
       "       ...,\n",
       "       [ 49,  18,  18, ..., 219, 213, 213],\n",
       "       [ 59,  19,  18, ..., 213, 213, 198],\n",
       "       [ 68,  32,  18, ..., 207, 207, 182]], dtype=uint8)"
      ]
     },
     "execution_count": 38,
     "metadata": {},
     "output_type": "execute_result"
    }
   ],
   "source": [
    "rs[:,:,2]"
   ]
  },
  {
   "cell_type": "code",
   "execution_count": 40,
   "metadata": {},
   "outputs": [
    {
     "data": {
      "text/plain": [
       "-1"
      ]
     },
     "execution_count": 40,
     "metadata": {},
     "output_type": "execute_result"
    }
   ],
   "source": [
    "cv2.imshow(\"airplane\", rs)\n",
    "\n",
    "cv2.waitKey(0)\n",
    "cv2.destroyAllWindows()\n",
    "cv2.waitKey(1)"
   ]
  },
  {
   "cell_type": "code",
   "execution_count": 20,
   "metadata": {},
   "outputs": [
    {
     "data": {
      "text/plain": [
       "array([[[  0,   0,   0, ...,   0,   0,   0],\n",
       "        [  0,   0,   0, ...,   0,   0,   0],\n",
       "        [  0,   0,   0, ...,   0,   0,   0],\n",
       "        ...,\n",
       "        [  0,   0,   0, ...,   0,   0,   0],\n",
       "        [  0,   0,   0, ...,   0,   0,   0],\n",
       "        [  0,   0,   0, ...,   0,   0,   0]],\n",
       "\n",
       "       [[  0,   0,   0, ...,   0,   0,   0],\n",
       "        [  0,   0,   0, ...,   0,   0,   0],\n",
       "        [  0,   0,   0, ...,   0,   0,   0],\n",
       "        ...,\n",
       "        [  0,   0,   0, ...,   0,   0,   0],\n",
       "        [  0,   0,   0, ...,   0,   0,   0],\n",
       "        [  0,   0,   0, ...,   0,   0,   0]],\n",
       "\n",
       "       [[132, 132, 132, ..., 191, 191, 184],\n",
       "        [132, 132, 132, ..., 190, 190, 179],\n",
       "        [132, 132, 132, ..., 175, 175, 166],\n",
       "        ...,\n",
       "        [149, 132, 132, ..., 248, 242, 242],\n",
       "        [151, 138, 132, ..., 242, 242, 235],\n",
       "        [156, 145, 132, ..., 240, 240, 224]]], dtype=uint8)"
      ]
     },
     "execution_count": 20,
     "metadata": {},
     "output_type": "execute_result"
    }
   ],
   "source": [
    "np.array([image[:,:,0], image[:,:,1], image[:,:,2]], dtype='uint8')"
   ]
  },
  {
   "cell_type": "code",
   "execution_count": 68,
   "metadata": {},
   "outputs": [
    {
     "data": {
      "text/plain": [
       "132.0"
      ]
     },
     "execution_count": 68,
     "metadata": {},
     "output_type": "execute_result"
    }
   ],
   "source": [
    "np.median(image[3:10,1:3])"
   ]
  },
  {
   "cell_type": "code",
   "execution_count": 47,
   "metadata": {},
   "outputs": [],
   "source": [
    "total_size = size**2\n",
    "radius = (size-1)/2\n",
    "\n",
    "width, height = image.shape[0], image.shape[1]\n"
   ]
  },
  {
   "cell_type": "code",
   "execution_count": 58,
   "metadata": {},
   "outputs": [],
   "source": [
    "radius = int(radius)"
   ]
  },
  {
   "cell_type": "code",
   "execution_count": 59,
   "metadata": {},
   "outputs": [],
   "source": [
    "result = np.zeros((width-2*radius, height-2*radius))\n"
   ]
  },
  {
   "cell_type": "code",
   "execution_count": 60,
   "metadata": {},
   "outputs": [],
   "source": [
    "for i in range(width-2):\n",
    "    for j in range(height-2):\n",
    "        result[i,j] += np.sum(image[i:i+size,j:j+size])/total_size"
   ]
  },
  {
   "cell_type": "code",
   "execution_count": 62,
   "metadata": {},
   "outputs": [
    {
     "data": {
      "text/plain": [
       "-1"
      ]
     },
     "execution_count": 62,
     "metadata": {},
     "output_type": "execute_result"
    }
   ],
   "source": [
    "cv2.imshow(\"airplane\", np.array(result, dtype='uint8'))\n",
    "\n",
    "cv2.waitKey(0)\n",
    "cv2.destroyAllWindows()\n",
    "cv2.waitKey(1)"
   ]
  },
  {
   "cell_type": "code",
   "execution_count": null,
   "metadata": {},
   "outputs": [],
   "source": []
  }
 ],
 "metadata": {
  "interpreter": {
   "hash": "f292396c1bcad47c12a2806c1ea1d7da774a13ca23c98ae46e5930adcf650259"
  },
  "kernelspec": {
   "display_name": "Python 3.9.7 ('base')",
   "language": "python",
   "name": "python3"
  },
  "language_info": {
   "codemirror_mode": {
    "name": "ipython",
    "version": 3
   },
   "file_extension": ".py",
   "mimetype": "text/x-python",
   "name": "python",
   "nbconvert_exporter": "python",
   "pygments_lexer": "ipython3",
   "version": "3.9.7"
  },
  "orig_nbformat": 4
 },
 "nbformat": 4,
 "nbformat_minor": 2
}
