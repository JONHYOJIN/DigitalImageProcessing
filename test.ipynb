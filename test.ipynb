{
 "cells": [
  {
   "cell_type": "code",
   "execution_count": 7,
   "metadata": {},
   "outputs": [],
   "source": [
    "import pandas as pd\n",
    "import numpy as np"
   ]
  },
  {
   "cell_type": "code",
   "execution_count": 8,
   "metadata": {},
   "outputs": [],
   "source": [
    "import cv2\n",
    "image1 = cv2.imread(\"/Users/hyojin/DigitalImageProcessing/HE test/Fig0316(1)(top_left).jpg\", cv2.IMREAD_COLOR)\n",
    "image2 = cv2.imread(\"/Users/hyojin/DigitalImageProcessing/HE test/Fig0316(2)(2nd_from_top).jpg\", cv2.IMREAD_COLOR)"
   ]
  },
  {
   "cell_type": "code",
   "execution_count": 3,
   "metadata": {},
   "outputs": [],
   "source": [
    "kernel = np.array([[-1, 0, 1],[-1, 0, 1],[-1, 0, 1]])"
   ]
  },
  {
   "cell_type": "code",
   "execution_count": 6,
   "metadata": {},
   "outputs": [
    {
     "data": {
      "text/plain": [
       "array([1, 1, 1])"
      ]
     },
     "execution_count": 6,
     "metadata": {},
     "output_type": "execute_result"
    }
   ],
   "source": [
    "kernel[:,2]"
   ]
  },
  {
   "cell_type": "code",
   "execution_count": null,
   "metadata": {},
   "outputs": [],
   "source": [
    "laplacian = cv2.Laplacian(img,cv2.CV_8U,ksize=5)"
   ]
  },
  {
   "cell_type": "code",
   "execution_count": null,
   "metadata": {},
   "outputs": [],
   "source": []
  },
  {
   "cell_type": "code",
   "execution_count": null,
   "metadata": {},
   "outputs": [],
   "source": []
  },
  {
   "cell_type": "code",
   "execution_count": 48,
   "metadata": {},
   "outputs": [],
   "source": [
    "image1_hsi = cv2.cvtColor(image1, cv2.COLOR_BGR2HSV)\n",
    "image2_hsi = cv2.cvtColor(image2, cv2.COLOR_BGR2HSV)"
   ]
  },
  {
   "cell_type": "code",
   "execution_count": 61,
   "metadata": {},
   "outputs": [
    {
     "data": {
      "text/plain": [
       "3"
      ]
     },
     "execution_count": 61,
     "metadata": {},
     "output_type": "execute_result"
    }
   ],
   "source": [
    "image1.shape[2]"
   ]
  },
  {
   "cell_type": "code",
   "execution_count": 4,
   "metadata": {},
   "outputs": [
    {
     "data": {
      "text/plain": [
       "array([[132, 132, 132, ..., 191, 191, 184],\n",
       "       [132, 132, 132, ..., 190, 190, 179],\n",
       "       [132, 132, 132, ..., 175, 175, 166],\n",
       "       ...,\n",
       "       [149, 132, 132, ..., 248, 242, 242],\n",
       "       [151, 138, 132, ..., 242, 242, 235],\n",
       "       [156, 145, 132, ..., 240, 240, 224]], dtype=uint8)"
      ]
     },
     "execution_count": 4,
     "metadata": {},
     "output_type": "execute_result"
    }
   ],
   "source": [
    "image1_hsi[:,:,2]"
   ]
  },
  {
   "cell_type": "code",
   "execution_count": 5,
   "metadata": {},
   "outputs": [
    {
     "data": {
      "text/plain": [
       "array([[ 91,  91,  91, ..., 107, 107, 105],\n",
       "       [ 91,  91,  91, ..., 106, 106, 104],\n",
       "       [ 91,  91,  91, ..., 103, 103, 101],\n",
       "       ...,\n",
       "       [ 96,  91,  91, ..., 122, 121, 121],\n",
       "       [ 97,  94,  91, ..., 121, 120, 119],\n",
       "       [ 98,  96,  91, ..., 120, 120, 117]], dtype=uint8)"
      ]
     },
     "execution_count": 5,
     "metadata": {},
     "output_type": "execute_result"
    }
   ],
   "source": [
    "image2_hsi[:,:,2]"
   ]
  },
  {
   "cell_type": "code",
   "execution_count": 17,
   "metadata": {},
   "outputs": [],
   "source": [
    "image2_hsi_d = image2_hsi\n",
    "image2_hsi_d[:,:,2] = image2_hsi_d[:,:,2] + 100\n",
    "image2_rgb_d = cv2.cvtColor(image2_hsi_d, cv2.COLOR_HSV2RGB)"
   ]
  },
  {
   "cell_type": "code",
   "execution_count": 10,
   "metadata": {},
   "outputs": [],
   "source": [
    "image1_rgb = cv2.cvtColor(image1_hsi, cv2.COLOR_HSV2RGB)\n",
    "image2_rgb = cv2.cvtColor(image2_hsi, cv2.COLOR_HSV2RGB)"
   ]
  },
  {
   "cell_type": "code",
   "execution_count": 20,
   "metadata": {},
   "outputs": [
    {
     "data": {
      "text/plain": [
       "-1"
      ]
     },
     "execution_count": 20,
     "metadata": {},
     "output_type": "execute_result"
    }
   ],
   "source": [
    "cv2.imshow(\"sample1\", image2_rgb)\n",
    "cv2.imshow(\"sample2\", image2_rgb_d)\n",
    "cv2.waitKey(0)\n",
    "cv2.destroyAllWindows()\n",
    "cv2.waitKey(1)"
   ]
  },
  {
   "cell_type": "code",
   "execution_count": 51,
   "metadata": {},
   "outputs": [],
   "source": [
    "image = image2_hsi.copy()"
   ]
  },
  {
   "cell_type": "code",
   "execution_count": 52,
   "metadata": {},
   "outputs": [],
   "source": [
    "radius = 1\n",
    "size=3\n",
    "alpha = 1.2"
   ]
  },
  {
   "cell_type": "code",
   "execution_count": 53,
   "metadata": {},
   "outputs": [],
   "source": [
    "kernel = np.zeros((size, size))\n",
    "kernel[radius-1, radius] = kernel[radius+1, radius] = -1\n",
    "kernel[radius, radius-1] = kernel[radius, radius+1] = -1\n",
    "kernel[radius, radius] = 4 + alpha"
   ]
  },
  {
   "cell_type": "code",
   "execution_count": 54,
   "metadata": {},
   "outputs": [
    {
     "data": {
      "text/plain": [
       "array([[ 0. , -1. ,  0. ],\n",
       "       [-1. ,  5.2, -1. ],\n",
       "       [ 0. , -1. ,  0. ]])"
      ]
     },
     "execution_count": 54,
     "metadata": {},
     "output_type": "execute_result"
    }
   ],
   "source": [
    "kernel"
   ]
  },
  {
   "cell_type": "code",
   "execution_count": 55,
   "metadata": {},
   "outputs": [
    {
     "data": {
      "text/plain": [
       "array([[ 91,  91,  91, ..., 107, 107, 105],\n",
       "       [ 91,  91,  91, ..., 106, 106, 104],\n",
       "       [ 91,  91,  91, ..., 103, 103, 101],\n",
       "       ...,\n",
       "       [ 96,  91,  91, ..., 122, 121, 121],\n",
       "       [ 97,  94,  91, ..., 121, 120, 119],\n",
       "       [ 98,  96,  91, ..., 120, 120, 117]], dtype=uint8)"
      ]
     },
     "execution_count": 55,
     "metadata": {},
     "output_type": "execute_result"
    }
   ],
   "source": [
    "image[:,:,2]"
   ]
  },
  {
   "cell_type": "code",
   "execution_count": 57,
   "metadata": {},
   "outputs": [],
   "source": [
    "width, height = image.shape[0], image.shape[1]\n",
    "result = image[radius:width-radius+1, radius:height-radius+1, :].copy()\n",
    "for i in range(width-2*radius):\n",
    "    for j in range(height-2*radius):\n",
    "        result[i,j,2] = np.sum(np.multiply(image[i:i+size,j:j+size,2], kernel))"
   ]
  },
  {
   "cell_type": "code",
   "execution_count": 58,
   "metadata": {},
   "outputs": [
    {
     "data": {
      "text/plain": [
       "array([[109, 109, 109, ..., 131, 131, 104],\n",
       "       [109, 109, 109, ..., 128, 124, 101],\n",
       "       [109, 109, 109, ..., 119, 132,  97],\n",
       "       ...,\n",
       "       [101, 109, 109, ..., 145, 145, 121],\n",
       "       [113, 106, 109, ..., 145, 143, 119],\n",
       "       [ 96,  91,  91, ..., 120, 120, 117]], dtype=uint8)"
      ]
     },
     "execution_count": 58,
     "metadata": {},
     "output_type": "execute_result"
    }
   ],
   "source": [
    "result[:,:,2]"
   ]
  },
  {
   "cell_type": "code",
   "execution_count": 59,
   "metadata": {},
   "outputs": [
    {
     "data": {
      "text/plain": [
       "-1"
      ]
     },
     "execution_count": 59,
     "metadata": {},
     "output_type": "execute_result"
    }
   ],
   "source": [
    "cv2.imshow(\"sample1\", image2_hsi[:,:,2])\n",
    "cv2.imshow(\"sample2\", result[:,:,2])\n",
    "cv2.waitKey(0)\n",
    "cv2.destroyAllWindows()\n",
    "cv2.waitKey(1)"
   ]
  },
  {
   "cell_type": "code",
   "execution_count": null,
   "metadata": {},
   "outputs": [],
   "source": []
  }
 ],
 "metadata": {
  "interpreter": {
   "hash": "f292396c1bcad47c12a2806c1ea1d7da774a13ca23c98ae46e5930adcf650259"
  },
  "kernelspec": {
   "display_name": "Python 3.9.7 ('base')",
   "language": "python",
   "name": "python3"
  },
  "language_info": {
   "codemirror_mode": {
    "name": "ipython",
    "version": 3
   },
   "file_extension": ".py",
   "mimetype": "text/x-python",
   "name": "python",
   "nbconvert_exporter": "python",
   "pygments_lexer": "ipython3",
   "version": "3.9.7"
  },
  "orig_nbformat": 4
 },
 "nbformat": 4,
 "nbformat_minor": 2
}
